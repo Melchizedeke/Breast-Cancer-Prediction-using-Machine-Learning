{
 "cells": [
  {
   "attachments": {},
   "cell_type": "markdown",
   "metadata": {},
   "source": [
    "# Breast Cancer Prediction Using Classification Algorithms"
   ]
  },
  {
   "attachments": {},
   "cell_type": "markdown",
   "metadata": {},
   "source": [
    "### Data Description\n",
    "Dataset Attribute Information:\n",
    "\n",
    " - 1) ID number \n",
    " - 2) Diagnosis (M = malignant, B = benign) \n",
    " \n",
    "    -3-32.Ten real-valued features are computed for each cell nucleus:\n",
    "\n",
    " - a) radius (mean of distances from center to points on the perimeter) \n",
    " - b) texture (standard deviation of gray-scale values) \n",
    " - c) perimeter \n",
    " - d) area \n",
    " - e) smoothness (local variation in radius lengths) \n",
    " - f) compactness (perimeter^2 / area - 1.0) \n",
    " - g). concavity (severity of concave portions of the contour) \n",
    " - h). concave points (number of concave portions of the contour) \n",
    " - i). symmetry \n",
    " - j). fractal dimension (\"coastline approximation\" - 1)\n",
    "\n",
    "The mean, standard error and \"worst\" or largest (mean of the three largest values) of these features were computed for each image, resulting in 30 features. For instance, field 3 is Mean Radius, field 13 is Radius SE, field 23 is Worst Radius."
   ]
  },
  {
   "attachments": {},
   "cell_type": "markdown",
   "metadata": {},
   "source": [
    "### Loading the Required Python Libraries Necessary for EDA and Data Cleaning"
   ]
  },
  {
   "cell_type": "code",
   "execution_count": null,
   "metadata": {},
   "outputs": [],
   "source": [
    "import numpy as np \n",
    "import pandas as pd \n",
    "import matplotlib.pyplot as plt\n",
    "import matplotlib.gridspec as gridspec\n",
    "import seaborn as sns\n",
    "%matplotlib inline "
   ]
  },
  {
   "cell_type": "code",
   "execution_count": null,
   "metadata": {},
   "outputs": [],
   "source": []
  }
 ],
 "metadata": {
  "kernelspec": {
   "display_name": "tf",
   "language": "python",
   "name": "python3"
  },
  "language_info": {
   "name": "python",
   "version": "3.8.12 (default, Oct 12 2021, 03:01:40) [MSC v.1916 64 bit (AMD64)]"
  },
  "orig_nbformat": 4,
  "vscode": {
   "interpreter": {
    "hash": "64d4293c8402b6e3d557c134bab2322b54b4fbba8aa10fb7b67901d3dcae0e94"
   }
  }
 },
 "nbformat": 4,
 "nbformat_minor": 2
}
